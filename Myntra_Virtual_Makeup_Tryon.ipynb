{
  "nbformat": 4,
  "nbformat_minor": 0,
  "metadata": {
    "colab": {
      "name": "Myntra_Virtual_Makeup_Tryon.ipynb",
      "provenance": []
    },
    "kernelspec": {
      "name": "python3",
      "display_name": "Python 3"
    },
    "language_info": {
      "name": "python"
    }
  },
  "cells": [
    {
      "cell_type": "markdown",
      "metadata": {
        "id": "nu21zsXIteID"
      },
      "source": [
        "**Members**:\n",
        "\t\n",
        "  *A.V.N.M.Hemateja*\n",
        "\t\n",
        "  *S.Abishek Sriram*\n",
        "\n",
        "**College:**\n",
        "\t\n",
        "*Vellore Institute of Technology, Chennai*\n"
      ]
    },
    {
      "cell_type": "markdown",
      "metadata": {
        "id": "FAUOt0cma6ov"
      },
      "source": [
        "# Myntra Virtual Makeup tryon (BeautyGAN) "
      ]
    },
    {
      "cell_type": "code",
      "metadata": {
        "colab": {
          "base_uri": "https://localhost:8080/"
        },
        "id": "ywy1_78LzqE7",
        "outputId": "80030904-2a74-4845-fec1-3c51c8e5108c"
      },
      "source": [
        "#connecting to Google Drive\n",
        "from google.colab import drive\n",
        "drive.mount('/content/drive')"
      ],
      "execution_count": 1,
      "outputs": [
        {
          "output_type": "stream",
          "name": "stdout",
          "text": [
            "Mounted at /content/drive\n"
          ]
        }
      ]
    },
    {
      "cell_type": "code",
      "metadata": {
        "id": "DSG4BmOu0vfw",
        "colab": {
          "base_uri": "https://localhost:8080/"
        },
        "outputId": "fb1da5a7-7a1f-42ef-f3c9-bc220df3b13a"
      },
      "source": [
        "#this code works with tensorflow 1.15. So, degrading the tensorflow version...\n",
        "#We have to open BeautyGAN directory to execute main.py file\n",
        "%tensorflow_version 1.x"
      ],
      "execution_count": 2,
      "outputs": [
        {
          "output_type": "stream",
          "name": "stdout",
          "text": [
            "TensorFlow 1.x selected.\n"
          ]
        }
      ]
    },
    {
      "cell_type": "code",
      "metadata": {
        "colab": {
          "base_uri": "https://localhost:8080/"
        },
        "id": "Qb6IojTibQ4G",
        "outputId": "42aa50bf-eb57-428b-a66f-58b8ee12c223"
      },
      "source": [
        "cd /content/drive/My Drive/Myntra_Hackerramp/BeautyGan/BeautyGAN/"
      ],
      "execution_count": 3,
      "outputs": [
        {
          "output_type": "stream",
          "name": "stdout",
          "text": [
            "/content/drive/My Drive/Myntra_Hackerramp/BeautyGan/BeautyGAN\n"
          ]
        }
      ]
    },
    {
      "cell_type": "code",
      "metadata": {
        "colab": {
          "base_uri": "https://localhost:8080/"
        },
        "id": "DtP707IUbDfR",
        "outputId": "de21dece-b7bc-4524-b578-d25b0c0ef127"
      },
      "source": [
        "#We need to provide the image file that needs to be applied onto. All the images in /imgs/makeup/ will be applied onto this image path provided\n",
        "!python main.py --no_makeup ./imgs/no_makeup/kajal3.png\n",
        "\n",
        "#Result will be saved as result.jpg"
      ],
      "execution_count": 6,
      "outputs": [
        {
          "output_type": "stream",
          "name": "stdout",
          "text": [
            "WARNING:tensorflow:From main.py:29: The name tf.reset_default_graph is deprecated. Please use tf.compat.v1.reset_default_graph instead.\n",
            "\n",
            "WARNING:tensorflow:From main.py:30: The name tf.Session is deprecated. Please use tf.compat.v1.Session instead.\n",
            "\n",
            "2021-11-06 17:42:18.052012: I tensorflow/stream_executor/platform/default/dso_loader.cc:44] Successfully opened dynamic library libcuda.so.1\n",
            "2021-11-06 17:42:18.069360: E tensorflow/stream_executor/cuda/cuda_driver.cc:318] failed call to cuInit: CUDA_ERROR_NO_DEVICE: no CUDA-capable device is detected\n",
            "2021-11-06 17:42:18.069416: I tensorflow/stream_executor/cuda/cuda_diagnostics.cc:156] kernel driver does not appear to be running on this host (7d8df85e9b74): /proc/driver/nvidia/version does not exist\n",
            "2021-11-06 17:42:18.075100: I tensorflow/core/platform/profile_utils/cpu_utils.cc:94] CPU Frequency: 2200220000 Hz\n",
            "2021-11-06 17:42:18.075361: I tensorflow/compiler/xla/service/service.cc:168] XLA service 0x55b6e571ea00 initialized for platform Host (this does not guarantee that XLA will be used). Devices:\n",
            "2021-11-06 17:42:18.075398: I tensorflow/compiler/xla/service/service.cc:176]   StreamExecutor device (0): Host, Default Version\n",
            "WARNING:tensorflow:From main.py:31: The name tf.global_variables_initializer is deprecated. Please use tf.compat.v1.global_variables_initializer instead.\n",
            "\n",
            "WARNING:tensorflow:From main.py:33: The name tf.train.import_meta_graph is deprecated. Please use tf.compat.v1.train.import_meta_graph instead.\n",
            "\n",
            "2021-11-06 17:42:18.622925: W tensorflow/core/graph/graph_constructor.cc:1491] Importing a graph with a lower producer version 26 into an existing graph with producer version 134. Shape inference will have run different parts of the graph with different producer versions.\n",
            "WARNING:tensorflow:From main.py:36: The name tf.get_default_graph is deprecated. Please use tf.compat.v1.get_default_graph instead.\n",
            "\n",
            "WARNING:root:Lossy conversion from float64 to uint8. Range [-5.960464477539063e-08, 1.0]. Convert image to uint8 prior to saving to suppress this warning.\n"
          ]
        }
      ]
    },
    {
      "cell_type": "code",
      "metadata": {
        "id": "1OSUAp-zTLsC"
      },
      "source": [
        ""
      ],
      "execution_count": null,
      "outputs": []
    }
  ]
}